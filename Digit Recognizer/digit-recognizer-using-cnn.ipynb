{
 "cells": [
  {
   "cell_type": "code",
   "execution_count": 1,
   "metadata": {
    "_cell_guid": "b1076dfc-b9ad-4769-8c92-a6c4dae69d19",
    "_uuid": "8f2839f25d086af736a60e9eeb907d3b93b6e0e5",
    "execution": {
     "iopub.execute_input": "2020-09-26T15:11:57.183298Z",
     "iopub.status.busy": "2020-09-26T15:11:57.182437Z",
     "iopub.status.idle": "2020-09-26T15:11:57.188163Z",
     "shell.execute_reply": "2020-09-26T15:11:57.187546Z"
    },
    "papermill": {
     "duration": 0.035656,
     "end_time": "2020-09-26T15:11:57.188289",
     "exception": false,
     "start_time": "2020-09-26T15:11:57.152633",
     "status": "completed"
    },
    "tags": []
   },
   "outputs": [
    {
     "name": "stdout",
     "output_type": "stream",
     "text": [
      "/kaggle/input/digit-recognizer/train.csv\n",
      "/kaggle/input/digit-recognizer/test.csv\n",
      "/kaggle/input/digit-recognizer/sample_submission.csv\n"
     ]
    }
   ],
   "source": [
    "# This Python 3 environment comes with many helpful analytics libraries installed\n",
    "# It is defined by the kaggle/python Docker image: https://github.com/kaggle/docker-python\n",
    "# For example, here's several helpful packages to load\n",
    "\n",
    "import numpy as np # linear algebra\n",
    "import pandas as pd # data processing, CSV file I/O (e.g. pd.read_csv)\n",
    "\n",
    "# Input data files are available in the read-only \"../input/\" directory\n",
    "# For example, running this (by clicking run or pressing Shift+Enter) will list all files under the input directory\n",
    "\n",
    "import os\n",
    "for dirname, _, filenames in os.walk('/kaggle/input'):\n",
    "    for filename in filenames:\n",
    "        print(os.path.join(dirname, filename))\n",
    "\n",
    "# You can write up to 5GB to the current directory (/kaggle/working/) that gets preserved as output when you create a version using \"Save & Run All\" \n",
    "# You can also write temporary files to /kaggle/temp/, but they won't be saved outside of the current session"
   ]
  },
  {
   "cell_type": "markdown",
   "metadata": {
    "papermill": {
     "duration": 0.02292,
     "end_time": "2020-09-26T15:11:57.237020",
     "exception": false,
     "start_time": "2020-09-26T15:11:57.214100",
     "status": "completed"
    },
    "tags": []
   },
   "source": [
    "# Importing the required libraries"
   ]
  },
  {
   "cell_type": "code",
   "execution_count": 2,
   "metadata": {
    "execution": {
     "iopub.execute_input": "2020-09-26T15:11:57.287601Z",
     "iopub.status.busy": "2020-09-26T15:11:57.287078Z",
     "iopub.status.idle": "2020-09-26T15:12:03.186433Z",
     "shell.execute_reply": "2020-09-26T15:12:03.184916Z"
    },
    "papermill": {
     "duration": 5.926557,
     "end_time": "2020-09-26T15:12:03.186552",
     "exception": false,
     "start_time": "2020-09-26T15:11:57.259995",
     "status": "completed"
    },
    "tags": []
   },
   "outputs": [],
   "source": [
    "import matplotlib.pyplot as plt\n",
    "from sklearn.model_selection import train_test_split\n",
    "import tensorflow as tf\n",
    "from keras.utils import to_categorical\n",
    "from keras.preprocessing.image import ImageDataGenerator\n",
    "from keras.callbacks import EarlyStopping"
   ]
  },
  {
   "cell_type": "code",
   "execution_count": 3,
   "metadata": {
    "_cell_guid": "79c7e3d0-c299-4dcb-8224-4455121ee9b0",
    "_uuid": "d629ff2d2480ee46fbb7e2d37f6b5fab8052498a",
    "execution": {
     "iopub.execute_input": "2020-09-26T15:12:03.242878Z",
     "iopub.status.busy": "2020-09-26T15:12:03.242245Z",
     "iopub.status.idle": "2020-09-26T15:12:07.760258Z",
     "shell.execute_reply": "2020-09-26T15:12:07.759062Z"
    },
    "papermill": {
     "duration": 4.54902,
     "end_time": "2020-09-26T15:12:07.760412",
     "exception": false,
     "start_time": "2020-09-26T15:12:03.211392",
     "status": "completed"
    },
    "tags": []
   },
   "outputs": [],
   "source": [
    "train_data = pd.read_csv('../input/digit-recognizer/train.csv')\n",
    "test_data = pd.read_csv('../input/digit-recognizer/test.csv')"
   ]
  },
  {
   "cell_type": "code",
   "execution_count": 4,
   "metadata": {
    "execution": {
     "iopub.execute_input": "2020-09-26T15:12:07.816681Z",
     "iopub.status.busy": "2020-09-26T15:12:07.816137Z",
     "iopub.status.idle": "2020-09-26T15:12:07.833310Z",
     "shell.execute_reply": "2020-09-26T15:12:07.833734Z"
    },
    "papermill": {
     "duration": 0.049469,
     "end_time": "2020-09-26T15:12:07.833858",
     "exception": false,
     "start_time": "2020-09-26T15:12:07.784389",
     "status": "completed"
    },
    "tags": []
   },
   "outputs": [
    {
     "data": {
      "text/html": [
       "<div>\n",
       "<style scoped>\n",
       "    .dataframe tbody tr th:only-of-type {\n",
       "        vertical-align: middle;\n",
       "    }\n",
       "\n",
       "    .dataframe tbody tr th {\n",
       "        vertical-align: top;\n",
       "    }\n",
       "\n",
       "    .dataframe thead th {\n",
       "        text-align: right;\n",
       "    }\n",
       "</style>\n",
       "<table border=\"1\" class=\"dataframe\">\n",
       "  <thead>\n",
       "    <tr style=\"text-align: right;\">\n",
       "      <th></th>\n",
       "      <th>label</th>\n",
       "      <th>pixel0</th>\n",
       "      <th>pixel1</th>\n",
       "      <th>pixel2</th>\n",
       "      <th>pixel3</th>\n",
       "      <th>pixel4</th>\n",
       "      <th>pixel5</th>\n",
       "      <th>pixel6</th>\n",
       "      <th>pixel7</th>\n",
       "      <th>pixel8</th>\n",
       "      <th>...</th>\n",
       "      <th>pixel774</th>\n",
       "      <th>pixel775</th>\n",
       "      <th>pixel776</th>\n",
       "      <th>pixel777</th>\n",
       "      <th>pixel778</th>\n",
       "      <th>pixel779</th>\n",
       "      <th>pixel780</th>\n",
       "      <th>pixel781</th>\n",
       "      <th>pixel782</th>\n",
       "      <th>pixel783</th>\n",
       "    </tr>\n",
       "  </thead>\n",
       "  <tbody>\n",
       "    <tr>\n",
       "      <th>0</th>\n",
       "      <td>1</td>\n",
       "      <td>0</td>\n",
       "      <td>0</td>\n",
       "      <td>0</td>\n",
       "      <td>0</td>\n",
       "      <td>0</td>\n",
       "      <td>0</td>\n",
       "      <td>0</td>\n",
       "      <td>0</td>\n",
       "      <td>0</td>\n",
       "      <td>...</td>\n",
       "      <td>0</td>\n",
       "      <td>0</td>\n",
       "      <td>0</td>\n",
       "      <td>0</td>\n",
       "      <td>0</td>\n",
       "      <td>0</td>\n",
       "      <td>0</td>\n",
       "      <td>0</td>\n",
       "      <td>0</td>\n",
       "      <td>0</td>\n",
       "    </tr>\n",
       "    <tr>\n",
       "      <th>1</th>\n",
       "      <td>0</td>\n",
       "      <td>0</td>\n",
       "      <td>0</td>\n",
       "      <td>0</td>\n",
       "      <td>0</td>\n",
       "      <td>0</td>\n",
       "      <td>0</td>\n",
       "      <td>0</td>\n",
       "      <td>0</td>\n",
       "      <td>0</td>\n",
       "      <td>...</td>\n",
       "      <td>0</td>\n",
       "      <td>0</td>\n",
       "      <td>0</td>\n",
       "      <td>0</td>\n",
       "      <td>0</td>\n",
       "      <td>0</td>\n",
       "      <td>0</td>\n",
       "      <td>0</td>\n",
       "      <td>0</td>\n",
       "      <td>0</td>\n",
       "    </tr>\n",
       "    <tr>\n",
       "      <th>2</th>\n",
       "      <td>1</td>\n",
       "      <td>0</td>\n",
       "      <td>0</td>\n",
       "      <td>0</td>\n",
       "      <td>0</td>\n",
       "      <td>0</td>\n",
       "      <td>0</td>\n",
       "      <td>0</td>\n",
       "      <td>0</td>\n",
       "      <td>0</td>\n",
       "      <td>...</td>\n",
       "      <td>0</td>\n",
       "      <td>0</td>\n",
       "      <td>0</td>\n",
       "      <td>0</td>\n",
       "      <td>0</td>\n",
       "      <td>0</td>\n",
       "      <td>0</td>\n",
       "      <td>0</td>\n",
       "      <td>0</td>\n",
       "      <td>0</td>\n",
       "    </tr>\n",
       "    <tr>\n",
       "      <th>3</th>\n",
       "      <td>4</td>\n",
       "      <td>0</td>\n",
       "      <td>0</td>\n",
       "      <td>0</td>\n",
       "      <td>0</td>\n",
       "      <td>0</td>\n",
       "      <td>0</td>\n",
       "      <td>0</td>\n",
       "      <td>0</td>\n",
       "      <td>0</td>\n",
       "      <td>...</td>\n",
       "      <td>0</td>\n",
       "      <td>0</td>\n",
       "      <td>0</td>\n",
       "      <td>0</td>\n",
       "      <td>0</td>\n",
       "      <td>0</td>\n",
       "      <td>0</td>\n",
       "      <td>0</td>\n",
       "      <td>0</td>\n",
       "      <td>0</td>\n",
       "    </tr>\n",
       "    <tr>\n",
       "      <th>4</th>\n",
       "      <td>0</td>\n",
       "      <td>0</td>\n",
       "      <td>0</td>\n",
       "      <td>0</td>\n",
       "      <td>0</td>\n",
       "      <td>0</td>\n",
       "      <td>0</td>\n",
       "      <td>0</td>\n",
       "      <td>0</td>\n",
       "      <td>0</td>\n",
       "      <td>...</td>\n",
       "      <td>0</td>\n",
       "      <td>0</td>\n",
       "      <td>0</td>\n",
       "      <td>0</td>\n",
       "      <td>0</td>\n",
       "      <td>0</td>\n",
       "      <td>0</td>\n",
       "      <td>0</td>\n",
       "      <td>0</td>\n",
       "      <td>0</td>\n",
       "    </tr>\n",
       "  </tbody>\n",
       "</table>\n",
       "<p>5 rows × 785 columns</p>\n",
       "</div>"
      ],
      "text/plain": [
       "   label  pixel0  pixel1  pixel2  pixel3  pixel4  pixel5  pixel6  pixel7  \\\n",
       "0      1       0       0       0       0       0       0       0       0   \n",
       "1      0       0       0       0       0       0       0       0       0   \n",
       "2      1       0       0       0       0       0       0       0       0   \n",
       "3      4       0       0       0       0       0       0       0       0   \n",
       "4      0       0       0       0       0       0       0       0       0   \n",
       "\n",
       "   pixel8  ...  pixel774  pixel775  pixel776  pixel777  pixel778  pixel779  \\\n",
       "0       0  ...         0         0         0         0         0         0   \n",
       "1       0  ...         0         0         0         0         0         0   \n",
       "2       0  ...         0         0         0         0         0         0   \n",
       "3       0  ...         0         0         0         0         0         0   \n",
       "4       0  ...         0         0         0         0         0         0   \n",
       "\n",
       "   pixel780  pixel781  pixel782  pixel783  \n",
       "0         0         0         0         0  \n",
       "1         0         0         0         0  \n",
       "2         0         0         0         0  \n",
       "3         0         0         0         0  \n",
       "4         0         0         0         0  \n",
       "\n",
       "[5 rows x 785 columns]"
      ]
     },
     "execution_count": 4,
     "metadata": {},
     "output_type": "execute_result"
    }
   ],
   "source": [
    "train_data.head()"
   ]
  },
  {
   "cell_type": "markdown",
   "metadata": {
    "papermill": {
     "duration": 0.025008,
     "end_time": "2020-09-26T15:12:07.883578",
     "exception": false,
     "start_time": "2020-09-26T15:12:07.858570",
     "status": "completed"
    },
    "tags": []
   },
   "source": [
    "# Split the data into labels"
   ]
  },
  {
   "cell_type": "code",
   "execution_count": 5,
   "metadata": {
    "execution": {
     "iopub.execute_input": "2020-09-26T15:12:08.020900Z",
     "iopub.status.busy": "2020-09-26T15:12:08.020223Z",
     "iopub.status.idle": "2020-09-26T15:12:08.025139Z",
     "shell.execute_reply": "2020-09-26T15:12:08.025543Z"
    },
    "papermill": {
     "duration": 0.117829,
     "end_time": "2020-09-26T15:12:08.025675",
     "exception": false,
     "start_time": "2020-09-26T15:12:07.907846",
     "status": "completed"
    },
    "tags": []
   },
   "outputs": [],
   "source": [
    "X_train = train_data.drop(labels = [\"label\"],axis = 1) \n",
    "Y_train = train_data[\"label\"]\n",
    "Y_train = to_categorical(Y_train, num_classes = 10)"
   ]
  },
  {
   "cell_type": "code",
   "execution_count": 6,
   "metadata": {
    "execution": {
     "iopub.execute_input": "2020-09-26T15:12:08.080413Z",
     "iopub.status.busy": "2020-09-26T15:12:08.079857Z",
     "iopub.status.idle": "2020-09-26T15:12:08.295195Z",
     "shell.execute_reply": "2020-09-26T15:12:08.294670Z"
    },
    "papermill": {
     "duration": 0.245134,
     "end_time": "2020-09-26T15:12:08.295335",
     "exception": false,
     "start_time": "2020-09-26T15:12:08.050201",
     "status": "completed"
    },
    "tags": []
   },
   "outputs": [],
   "source": [
    "X_train, X_test, Y_train, Y_test = train_test_split(X_train, Y_train, test_size = 0.2, random_state = 42)"
   ]
  },
  {
   "cell_type": "code",
   "execution_count": 7,
   "metadata": {
    "execution": {
     "iopub.execute_input": "2020-09-26T15:12:08.350364Z",
     "iopub.status.busy": "2020-09-26T15:12:08.349713Z",
     "iopub.status.idle": "2020-09-26T15:12:08.355595Z",
     "shell.execute_reply": "2020-09-26T15:12:08.355005Z"
    },
    "papermill": {
     "duration": 0.035137,
     "end_time": "2020-09-26T15:12:08.355729",
     "exception": false,
     "start_time": "2020-09-26T15:12:08.320592",
     "status": "completed"
    },
    "tags": []
   },
   "outputs": [
    {
     "data": {
      "text/plain": [
       "(33600, 784)"
      ]
     },
     "execution_count": 7,
     "metadata": {},
     "output_type": "execute_result"
    }
   ],
   "source": [
    "X_train.shape"
   ]
  },
  {
   "cell_type": "markdown",
   "metadata": {
    "papermill": {
     "duration": 0.025059,
     "end_time": "2020-09-26T15:12:08.405639",
     "exception": false,
     "start_time": "2020-09-26T15:12:08.380580",
     "status": "completed"
    },
    "tags": []
   },
   "source": [
    "# Reshaping the training and testing values"
   ]
  },
  {
   "cell_type": "code",
   "execution_count": 8,
   "metadata": {
    "execution": {
     "iopub.execute_input": "2020-09-26T15:12:08.460028Z",
     "iopub.status.busy": "2020-09-26T15:12:08.459304Z",
     "iopub.status.idle": "2020-09-26T15:12:08.462185Z",
     "shell.execute_reply": "2020-09-26T15:12:08.461777Z"
    },
    "papermill": {
     "duration": 0.031809,
     "end_time": "2020-09-26T15:12:08.462270",
     "exception": false,
     "start_time": "2020-09-26T15:12:08.430461",
     "status": "completed"
    },
    "tags": []
   },
   "outputs": [],
   "source": [
    "X_train = X_train.values.reshape(-1,28,28,1)\n",
    "X_test = X_test.values.reshape(-1,28,28,1)"
   ]
  },
  {
   "cell_type": "markdown",
   "metadata": {
    "papermill": {
     "duration": 0.024734,
     "end_time": "2020-09-26T15:12:08.511798",
     "exception": false,
     "start_time": "2020-09-26T15:12:08.487064",
     "status": "completed"
    },
    "tags": []
   },
   "source": [
    "# Data Preprocessing"
   ]
  },
  {
   "cell_type": "code",
   "execution_count": 9,
   "metadata": {
    "execution": {
     "iopub.execute_input": "2020-09-26T15:12:08.568575Z",
     "iopub.status.busy": "2020-09-26T15:12:08.567770Z",
     "iopub.status.idle": "2020-09-26T15:12:08.570692Z",
     "shell.execute_reply": "2020-09-26T15:12:08.570219Z"
    },
    "papermill": {
     "duration": 0.03391,
     "end_time": "2020-09-26T15:12:08.570781",
     "exception": false,
     "start_time": "2020-09-26T15:12:08.536871",
     "status": "completed"
    },
    "tags": []
   },
   "outputs": [],
   "source": [
    "train_datagen = ImageDataGenerator(rescale = 1./255, shear_range = 0.2, zoom_range = 0.2)"
   ]
  },
  {
   "cell_type": "code",
   "execution_count": 10,
   "metadata": {
    "execution": {
     "iopub.execute_input": "2020-09-26T15:12:08.625160Z",
     "iopub.status.busy": "2020-09-26T15:12:08.624450Z",
     "iopub.status.idle": "2020-09-26T15:12:08.626774Z",
     "shell.execute_reply": "2020-09-26T15:12:08.627278Z"
    },
    "papermill": {
     "duration": 0.031291,
     "end_time": "2020-09-26T15:12:08.627392",
     "exception": false,
     "start_time": "2020-09-26T15:12:08.596101",
     "status": "completed"
    },
    "tags": []
   },
   "outputs": [],
   "source": [
    "test_datagen = ImageDataGenerator(rescale = 1./255)"
   ]
  },
  {
   "cell_type": "markdown",
   "metadata": {
    "papermill": {
     "duration": 0.024792,
     "end_time": "2020-09-26T15:12:08.677284",
     "exception": false,
     "start_time": "2020-09-26T15:12:08.652492",
     "status": "completed"
    },
    "tags": []
   },
   "source": [
    "# Creating the training set"
   ]
  },
  {
   "cell_type": "code",
   "execution_count": 11,
   "metadata": {
    "execution": {
     "iopub.execute_input": "2020-09-26T15:12:08.732064Z",
     "iopub.status.busy": "2020-09-26T15:12:08.730976Z",
     "iopub.status.idle": "2020-09-26T15:12:08.780784Z",
     "shell.execute_reply": "2020-09-26T15:12:08.780301Z"
    },
    "papermill": {
     "duration": 0.078639,
     "end_time": "2020-09-26T15:12:08.780889",
     "exception": false,
     "start_time": "2020-09-26T15:12:08.702250",
     "status": "completed"
    },
    "tags": []
   },
   "outputs": [],
   "source": [
    "train = train_datagen.flow(X_train, Y_train, batch_size = 128)"
   ]
  },
  {
   "cell_type": "markdown",
   "metadata": {
    "papermill": {
     "duration": 0.025651,
     "end_time": "2020-09-26T15:12:08.832433",
     "exception": false,
     "start_time": "2020-09-26T15:12:08.806782",
     "status": "completed"
    },
    "tags": []
   },
   "source": [
    "# Creating the test set"
   ]
  },
  {
   "cell_type": "code",
   "execution_count": 12,
   "metadata": {
    "execution": {
     "iopub.execute_input": "2020-09-26T15:12:08.888558Z",
     "iopub.status.busy": "2020-09-26T15:12:08.887714Z",
     "iopub.status.idle": "2020-09-26T15:12:08.898492Z",
     "shell.execute_reply": "2020-09-26T15:12:08.898010Z"
    },
    "papermill": {
     "duration": 0.040287,
     "end_time": "2020-09-26T15:12:08.898587",
     "exception": false,
     "start_time": "2020-09-26T15:12:08.858300",
     "status": "completed"
    },
    "tags": []
   },
   "outputs": [],
   "source": [
    "test = test_datagen.flow(X_test, Y_test, batch_size = 128)"
   ]
  },
  {
   "cell_type": "markdown",
   "metadata": {
    "papermill": {
     "duration": 0.025349,
     "end_time": "2020-09-26T15:12:08.949560",
     "exception": false,
     "start_time": "2020-09-26T15:12:08.924211",
     "status": "completed"
    },
    "tags": []
   },
   "source": [
    "# Add Early Stopping"
   ]
  },
  {
   "cell_type": "code",
   "execution_count": 13,
   "metadata": {
    "execution": {
     "iopub.execute_input": "2020-09-26T15:12:09.005110Z",
     "iopub.status.busy": "2020-09-26T15:12:09.003951Z",
     "iopub.status.idle": "2020-09-26T15:12:09.006800Z",
     "shell.execute_reply": "2020-09-26T15:12:09.006388Z"
    },
    "papermill": {
     "duration": 0.032175,
     "end_time": "2020-09-26T15:12:09.006884",
     "exception": false,
     "start_time": "2020-09-26T15:12:08.974709",
     "status": "completed"
    },
    "tags": []
   },
   "outputs": [],
   "source": [
    "callback = EarlyStopping(monitor='loss', patience=8, restore_best_weights=True)"
   ]
  },
  {
   "cell_type": "markdown",
   "metadata": {
    "papermill": {
     "duration": 0.025245,
     "end_time": "2020-09-26T15:12:09.057349",
     "exception": false,
     "start_time": "2020-09-26T15:12:09.032104",
     "status": "completed"
    },
    "tags": []
   },
   "source": [
    "# Building the CNN"
   ]
  },
  {
   "cell_type": "code",
   "execution_count": 14,
   "metadata": {
    "execution": {
     "iopub.execute_input": "2020-09-26T15:12:09.112274Z",
     "iopub.status.busy": "2020-09-26T15:12:09.111791Z",
     "iopub.status.idle": "2020-09-26T15:12:11.733571Z",
     "shell.execute_reply": "2020-09-26T15:12:11.732225Z"
    },
    "papermill": {
     "duration": 2.650911,
     "end_time": "2020-09-26T15:12:11.733698",
     "exception": false,
     "start_time": "2020-09-26T15:12:09.082787",
     "status": "completed"
    },
    "tags": []
   },
   "outputs": [],
   "source": [
    "cnn = tf.keras.models.Sequential()"
   ]
  },
  {
   "cell_type": "markdown",
   "metadata": {
    "papermill": {
     "duration": 0.025444,
     "end_time": "2020-09-26T15:12:11.785623",
     "exception": false,
     "start_time": "2020-09-26T15:12:11.760179",
     "status": "completed"
    },
    "tags": []
   },
   "source": [
    "# Step 1 - Convolution"
   ]
  },
  {
   "cell_type": "code",
   "execution_count": 15,
   "metadata": {
    "execution": {
     "iopub.execute_input": "2020-09-26T15:12:11.851058Z",
     "iopub.status.busy": "2020-09-26T15:12:11.850033Z",
     "iopub.status.idle": "2020-09-26T15:12:11.891742Z",
     "shell.execute_reply": "2020-09-26T15:12:11.890836Z"
    },
    "papermill": {
     "duration": 0.079531,
     "end_time": "2020-09-26T15:12:11.891838",
     "exception": false,
     "start_time": "2020-09-26T15:12:11.812307",
     "status": "completed"
    },
    "tags": []
   },
   "outputs": [],
   "source": [
    "cnn.add(tf.keras.layers.Conv2D(filters = 32, kernel_size = 5, padding = 'same', activation = 'relu', input_shape = [28, 28, 1]))"
   ]
  },
  {
   "cell_type": "markdown",
   "metadata": {
    "papermill": {
     "duration": 0.02624,
     "end_time": "2020-09-26T15:12:11.944823",
     "exception": false,
     "start_time": "2020-09-26T15:12:11.918583",
     "status": "completed"
    },
    "tags": []
   },
   "source": [
    "# Step 2 - Pooling"
   ]
  },
  {
   "cell_type": "code",
   "execution_count": 16,
   "metadata": {
    "execution": {
     "iopub.execute_input": "2020-09-26T15:12:12.001930Z",
     "iopub.status.busy": "2020-09-26T15:12:12.001424Z",
     "iopub.status.idle": "2020-09-26T15:12:12.006501Z",
     "shell.execute_reply": "2020-09-26T15:12:12.006080Z"
    },
    "papermill": {
     "duration": 0.035961,
     "end_time": "2020-09-26T15:12:12.006590",
     "exception": false,
     "start_time": "2020-09-26T15:12:11.970629",
     "status": "completed"
    },
    "tags": []
   },
   "outputs": [],
   "source": [
    "cnn.add(tf.keras.layers.MaxPool2D(pool_size = 2, strides = 2, padding = 'valid'))"
   ]
  },
  {
   "cell_type": "markdown",
   "metadata": {
    "papermill": {
     "duration": 0.025873,
     "end_time": "2020-09-26T15:12:12.058147",
     "exception": false,
     "start_time": "2020-09-26T15:12:12.032274",
     "status": "completed"
    },
    "tags": []
   },
   "source": [
    "# Adding a more convolutional layer"
   ]
  },
  {
   "cell_type": "code",
   "execution_count": 17,
   "metadata": {
    "execution": {
     "iopub.execute_input": "2020-09-26T15:12:12.117297Z",
     "iopub.status.busy": "2020-09-26T15:12:12.116411Z",
     "iopub.status.idle": "2020-09-26T15:12:12.127116Z",
     "shell.execute_reply": "2020-09-26T15:12:12.126605Z"
    },
    "papermill": {
     "duration": 0.043298,
     "end_time": "2020-09-26T15:12:12.127209",
     "exception": false,
     "start_time": "2020-09-26T15:12:12.083911",
     "status": "completed"
    },
    "tags": []
   },
   "outputs": [],
   "source": [
    "cnn.add(tf.keras.layers.Conv2D(filters = 64, kernel_size = 3, padding = 'same'))\n",
    "\n",
    "cnn.add(tf.keras.layers.MaxPool2D(pool_size = 2, strides = 2, padding='valid'))"
   ]
  },
  {
   "cell_type": "code",
   "execution_count": 18,
   "metadata": {
    "execution": {
     "iopub.execute_input": "2020-09-26T15:12:12.185223Z",
     "iopub.status.busy": "2020-09-26T15:12:12.184397Z",
     "iopub.status.idle": "2020-09-26T15:12:12.464605Z",
     "shell.execute_reply": "2020-09-26T15:12:12.465064Z"
    },
    "papermill": {
     "duration": 0.311606,
     "end_time": "2020-09-26T15:12:12.465183",
     "exception": false,
     "start_time": "2020-09-26T15:12:12.153577",
     "status": "completed"
    },
    "tags": []
   },
   "outputs": [
    {
     "ename": "NameError",
     "evalue": "name 'Droupout' is not defined",
     "output_type": "error",
     "traceback": [
      "\u001b[0;31m---------------------------------------------------------------------------\u001b[0m",
      "\u001b[0;31mNameError\u001b[0m                                 Traceback (most recent call last)",
      "\u001b[0;32m<ipython-input-18-197b677bcc3d>\u001b[0m in \u001b[0;36m<module>\u001b[0;34m\u001b[0m\n\u001b[1;32m      1\u001b[0m \u001b[0mcnn\u001b[0m\u001b[0;34m.\u001b[0m\u001b[0madd\u001b[0m\u001b[0;34m(\u001b[0m\u001b[0mtf\u001b[0m\u001b[0;34m.\u001b[0m\u001b[0mkeras\u001b[0m\u001b[0;34m.\u001b[0m\u001b[0mlayers\u001b[0m\u001b[0;34m.\u001b[0m\u001b[0mMaxPool2D\u001b[0m\u001b[0;34m(\u001b[0m\u001b[0mpool_size\u001b[0m \u001b[0;34m=\u001b[0m \u001b[0;36m2\u001b[0m\u001b[0;34m,\u001b[0m \u001b[0mstrides\u001b[0m \u001b[0;34m=\u001b[0m \u001b[0;36m2\u001b[0m\u001b[0;34m,\u001b[0m \u001b[0mpadding\u001b[0m\u001b[0;34m=\u001b[0m\u001b[0;34m'valid'\u001b[0m\u001b[0;34m)\u001b[0m\u001b[0;34m)\u001b[0m\u001b[0;34m\u001b[0m\u001b[0;34m\u001b[0m\u001b[0m\n\u001b[0;32m----> 2\u001b[0;31m \u001b[0mcnn\u001b[0m\u001b[0;34m.\u001b[0m\u001b[0madd\u001b[0m\u001b[0;34m(\u001b[0m\u001b[0mDroupout\u001b[0m\u001b[0;34m(\u001b[0m\u001b[0;36m0.5\u001b[0m\u001b[0;34m)\u001b[0m\u001b[0;34m)\u001b[0m\u001b[0;34m\u001b[0m\u001b[0;34m\u001b[0m\u001b[0m\n\u001b[0m",
      "\u001b[0;31mNameError\u001b[0m: name 'Droupout' is not defined"
     ]
    }
   ],
   "source": [
    "cnn.add(tf.keras.layers.MaxPool2D(pool_size = 2, strides = 2, padding='valid'))\n",
    "cnn.add(Droupout(0.5))"
   ]
  },
  {
   "cell_type": "markdown",
   "metadata": {
    "papermill": {
     "duration": 0.029036,
     "end_time": "2020-09-26T15:12:12.520949",
     "exception": false,
     "start_time": "2020-09-26T15:12:12.491913",
     "status": "completed"
    },
    "tags": []
   },
   "source": [
    "# Step 3 - Flattening"
   ]
  },
  {
   "cell_type": "code",
   "execution_count": 19,
   "metadata": {
    "execution": {
     "iopub.execute_input": "2020-09-26T15:12:12.582992Z",
     "iopub.status.busy": "2020-09-26T15:12:12.582160Z",
     "iopub.status.idle": "2020-09-26T15:12:12.587363Z",
     "shell.execute_reply": "2020-09-26T15:12:12.587777Z"
    },
    "papermill": {
     "duration": 0.037651,
     "end_time": "2020-09-26T15:12:12.587901",
     "exception": false,
     "start_time": "2020-09-26T15:12:12.550250",
     "status": "completed"
    },
    "tags": []
   },
   "outputs": [],
   "source": [
    "cnn.add(tf.keras.layers.Flatten())"
   ]
  },
  {
   "cell_type": "markdown",
   "metadata": {
    "papermill": {
     "duration": 0.027169,
     "end_time": "2020-09-26T15:12:12.643011",
     "exception": false,
     "start_time": "2020-09-26T15:12:12.615842",
     "status": "completed"
    },
    "tags": []
   },
   "source": [
    "# Step 4 - Full Connection"
   ]
  },
  {
   "cell_type": "code",
   "execution_count": 20,
   "metadata": {
    "execution": {
     "iopub.execute_input": "2020-09-26T15:12:12.702477Z",
     "iopub.status.busy": "2020-09-26T15:12:12.701673Z",
     "iopub.status.idle": "2020-09-26T15:12:12.709905Z",
     "shell.execute_reply": "2020-09-26T15:12:12.710347Z"
    },
    "papermill": {
     "duration": 0.040772,
     "end_time": "2020-09-26T15:12:12.710454",
     "exception": false,
     "start_time": "2020-09-26T15:12:12.669682",
     "status": "completed"
    },
    "tags": []
   },
   "outputs": [],
   "source": [
    "cnn.add(tf.keras.layers.Dense(units=256, activation='relu'))"
   ]
  },
  {
   "cell_type": "markdown",
   "metadata": {
    "papermill": {
     "duration": 0.026832,
     "end_time": "2020-09-26T15:12:12.764164",
     "exception": false,
     "start_time": "2020-09-26T15:12:12.737332",
     "status": "completed"
    },
    "tags": []
   },
   "source": [
    "# Step 5 - Output Layer"
   ]
  },
  {
   "cell_type": "code",
   "execution_count": 21,
   "metadata": {
    "execution": {
     "iopub.execute_input": "2020-09-26T15:12:12.824506Z",
     "iopub.status.busy": "2020-09-26T15:12:12.823616Z",
     "iopub.status.idle": "2020-09-26T15:12:12.832758Z",
     "shell.execute_reply": "2020-09-26T15:12:12.832147Z"
    },
    "papermill": {
     "duration": 0.040897,
     "end_time": "2020-09-26T15:12:12.832850",
     "exception": false,
     "start_time": "2020-09-26T15:12:12.791953",
     "status": "completed"
    },
    "tags": []
   },
   "outputs": [],
   "source": [
    "cnn.add(tf.keras.layers.Dense(units=10, activation='softmax'))"
   ]
  },
  {
   "cell_type": "markdown",
   "metadata": {
    "papermill": {
     "duration": 0.027006,
     "end_time": "2020-09-26T15:12:12.887184",
     "exception": false,
     "start_time": "2020-09-26T15:12:12.860178",
     "status": "completed"
    },
    "tags": []
   },
   "source": [
    "# Training the CNN"
   ]
  },
  {
   "cell_type": "code",
   "execution_count": 22,
   "metadata": {
    "execution": {
     "iopub.execute_input": "2020-09-26T15:12:12.951091Z",
     "iopub.status.busy": "2020-09-26T15:12:12.948207Z",
     "iopub.status.idle": "2020-09-26T15:12:12.956998Z",
     "shell.execute_reply": "2020-09-26T15:12:12.957393Z"
    },
    "papermill": {
     "duration": 0.043356,
     "end_time": "2020-09-26T15:12:12.957499",
     "exception": false,
     "start_time": "2020-09-26T15:12:12.914143",
     "status": "completed"
    },
    "tags": []
   },
   "outputs": [],
   "source": [
    "cnn.compile(optimizer = 'adam', loss = 'categorical_crossentropy', metrics = ['accuracy'])"
   ]
  },
  {
   "cell_type": "markdown",
   "metadata": {
    "papermill": {
     "duration": 0.038582,
     "end_time": "2020-09-26T15:12:13.022915",
     "exception": false,
     "start_time": "2020-09-26T15:12:12.984333",
     "status": "completed"
    },
    "tags": []
   },
   "source": [
    "# Training the CNN on the Training"
   ]
  },
  {
   "cell_type": "code",
   "execution_count": 23,
   "metadata": {
    "execution": {
     "iopub.execute_input": "2020-09-26T15:12:13.088446Z",
     "iopub.status.busy": "2020-09-26T15:12:13.087886Z",
     "iopub.status.idle": "2020-09-26T15:20:35.260864Z",
     "shell.execute_reply": "2020-09-26T15:20:35.260240Z"
    },
    "papermill": {
     "duration": 502.20421,
     "end_time": "2020-09-26T15:20:35.260974",
     "exception": false,
     "start_time": "2020-09-26T15:12:13.056764",
     "status": "completed"
    },
    "tags": []
   },
   "outputs": [
    {
     "name": "stdout",
     "output_type": "stream",
     "text": [
      "Epoch 1/100\n",
      "263/263 [==============================] - 8s 30ms/step - loss: 0.3714 - accuracy: 0.8920 - val_loss: 0.1136 - val_accuracy: 0.9643\n",
      "Epoch 2/100\n",
      "263/263 [==============================] - 8s 29ms/step - loss: 0.0968 - accuracy: 0.9696 - val_loss: 0.0740 - val_accuracy: 0.9780\n",
      "Epoch 3/100\n",
      "263/263 [==============================] - 8s 29ms/step - loss: 0.0688 - accuracy: 0.9782 - val_loss: 0.0590 - val_accuracy: 0.9811\n",
      "Epoch 4/100\n",
      "263/263 [==============================] - 8s 31ms/step - loss: 0.0536 - accuracy: 0.9829 - val_loss: 0.0536 - val_accuracy: 0.9838\n",
      "Epoch 5/100\n",
      "263/263 [==============================] - 8s 30ms/step - loss: 0.0442 - accuracy: 0.9865 - val_loss: 0.0487 - val_accuracy: 0.9855\n",
      "Epoch 6/100\n",
      "263/263 [==============================] - 8s 32ms/step - loss: 0.0379 - accuracy: 0.9879 - val_loss: 0.0368 - val_accuracy: 0.9860\n",
      "Epoch 7/100\n",
      "263/263 [==============================] - 8s 30ms/step - loss: 0.0332 - accuracy: 0.9895 - val_loss: 0.0386 - val_accuracy: 0.9864\n",
      "Epoch 8/100\n",
      "263/263 [==============================] - 8s 30ms/step - loss: 0.0292 - accuracy: 0.9901 - val_loss: 0.0352 - val_accuracy: 0.9896\n",
      "Epoch 9/100\n",
      "263/263 [==============================] - 7s 27ms/step - loss: 0.0262 - accuracy: 0.9917 - val_loss: 0.0339 - val_accuracy: 0.9892\n",
      "Epoch 10/100\n",
      "263/263 [==============================] - 8s 30ms/step - loss: 0.0232 - accuracy: 0.9926 - val_loss: 0.0324 - val_accuracy: 0.9895\n",
      "Epoch 11/100\n",
      "263/263 [==============================] - 8s 29ms/step - loss: 0.0215 - accuracy: 0.9925 - val_loss: 0.0359 - val_accuracy: 0.9890\n",
      "Epoch 12/100\n",
      "263/263 [==============================] - 8s 29ms/step - loss: 0.0195 - accuracy: 0.9940 - val_loss: 0.0261 - val_accuracy: 0.9913\n",
      "Epoch 13/100\n",
      "263/263 [==============================] - 8s 32ms/step - loss: 0.0173 - accuracy: 0.9944 - val_loss: 0.0283 - val_accuracy: 0.9914\n",
      "Epoch 14/100\n",
      "263/263 [==============================] - 8s 32ms/step - loss: 0.0175 - accuracy: 0.9943 - val_loss: 0.0310 - val_accuracy: 0.9907\n",
      "Epoch 15/100\n",
      "263/263 [==============================] - 7s 28ms/step - loss: 0.0152 - accuracy: 0.9951 - val_loss: 0.0340 - val_accuracy: 0.9906\n",
      "Epoch 16/100\n",
      "263/263 [==============================] - 8s 30ms/step - loss: 0.0144 - accuracy: 0.9952 - val_loss: 0.0419 - val_accuracy: 0.9880\n",
      "Epoch 17/100\n",
      "263/263 [==============================] - 8s 29ms/step - loss: 0.0139 - accuracy: 0.9958 - val_loss: 0.0308 - val_accuracy: 0.9911\n",
      "Epoch 18/100\n",
      "263/263 [==============================] - 7s 29ms/step - loss: 0.0110 - accuracy: 0.9964 - val_loss: 0.0354 - val_accuracy: 0.9896\n",
      "Epoch 19/100\n",
      "263/263 [==============================] - 7s 27ms/step - loss: 0.0117 - accuracy: 0.9958 - val_loss: 0.0270 - val_accuracy: 0.9915\n",
      "Epoch 20/100\n",
      "263/263 [==============================] - 8s 31ms/step - loss: 0.0122 - accuracy: 0.9956 - val_loss: 0.0289 - val_accuracy: 0.9920\n",
      "Epoch 21/100\n",
      "263/263 [==============================] - 9s 33ms/step - loss: 0.0121 - accuracy: 0.9958 - val_loss: 0.0267 - val_accuracy: 0.9920\n",
      "Epoch 22/100\n",
      "263/263 [==============================] - 7s 28ms/step - loss: 0.0085 - accuracy: 0.9971 - val_loss: 0.0324 - val_accuracy: 0.9914\n",
      "Epoch 23/100\n",
      "263/263 [==============================] - 7s 28ms/step - loss: 0.0105 - accuracy: 0.9962 - val_loss: 0.0310 - val_accuracy: 0.9898\n",
      "Epoch 24/100\n",
      "263/263 [==============================] - 8s 31ms/step - loss: 0.0090 - accuracy: 0.9969 - val_loss: 0.0301 - val_accuracy: 0.9920\n",
      "Epoch 25/100\n",
      "263/263 [==============================] - 8s 29ms/step - loss: 0.0078 - accuracy: 0.9972 - val_loss: 0.0430 - val_accuracy: 0.9898\n",
      "Epoch 26/100\n",
      "263/263 [==============================] - 7s 27ms/step - loss: 0.0057 - accuracy: 0.9981 - val_loss: 0.0340 - val_accuracy: 0.9920\n",
      "Epoch 27/100\n",
      "263/263 [==============================] - 8s 29ms/step - loss: 0.0103 - accuracy: 0.9966 - val_loss: 0.0370 - val_accuracy: 0.9893\n",
      "Epoch 28/100\n",
      "263/263 [==============================] - 9s 33ms/step - loss: 0.0084 - accuracy: 0.9971 - val_loss: 0.0340 - val_accuracy: 0.9908\n",
      "Epoch 29/100\n",
      "263/263 [==============================] - 8s 32ms/step - loss: 0.0095 - accuracy: 0.9966 - val_loss: 0.0316 - val_accuracy: 0.9912\n",
      "Epoch 30/100\n",
      "263/263 [==============================] - 8s 30ms/step - loss: 0.0054 - accuracy: 0.9984 - val_loss: 0.0349 - val_accuracy: 0.9921\n",
      "Epoch 31/100\n",
      "263/263 [==============================] - 8s 29ms/step - loss: 0.0061 - accuracy: 0.9979 - val_loss: 0.0307 - val_accuracy: 0.9917\n",
      "Epoch 32/100\n",
      "263/263 [==============================] - 8s 32ms/step - loss: 0.0064 - accuracy: 0.9974 - val_loss: 0.0321 - val_accuracy: 0.9919\n",
      "Epoch 33/100\n",
      "263/263 [==============================] - 8s 29ms/step - loss: 0.0051 - accuracy: 0.9983 - val_loss: 0.0366 - val_accuracy: 0.9915\n",
      "Epoch 34/100\n",
      "263/263 [==============================] - 8s 29ms/step - loss: 0.0090 - accuracy: 0.9968 - val_loss: 0.0454 - val_accuracy: 0.9901\n",
      "Epoch 35/100\n",
      "263/263 [==============================] - 8s 29ms/step - loss: 0.0060 - accuracy: 0.9974 - val_loss: 0.0387 - val_accuracy: 0.9912\n",
      "Epoch 36/100\n",
      "263/263 [==============================] - 10s 37ms/step - loss: 0.0062 - accuracy: 0.9979 - val_loss: 0.0449 - val_accuracy: 0.9900\n",
      "Epoch 37/100\n",
      "263/263 [==============================] - 8s 30ms/step - loss: 0.0045 - accuracy: 0.9982 - val_loss: 0.0310 - val_accuracy: 0.9927\n",
      "Epoch 38/100\n",
      "263/263 [==============================] - 8s 29ms/step - loss: 0.0052 - accuracy: 0.9981 - val_loss: 0.0354 - val_accuracy: 0.9919\n",
      "Epoch 39/100\n",
      "263/263 [==============================] - 8s 29ms/step - loss: 0.0064 - accuracy: 0.9979 - val_loss: 0.0311 - val_accuracy: 0.9920\n",
      "Epoch 40/100\n",
      "263/263 [==============================] - 9s 33ms/step - loss: 0.0061 - accuracy: 0.9981 - val_loss: 0.0344 - val_accuracy: 0.9926\n",
      "Epoch 41/100\n",
      "263/263 [==============================] - 8s 29ms/step - loss: 0.0040 - accuracy: 0.9987 - val_loss: 0.0314 - val_accuracy: 0.9921\n",
      "Epoch 42/100\n",
      "263/263 [==============================] - 8s 29ms/step - loss: 0.0067 - accuracy: 0.9980 - val_loss: 0.0425 - val_accuracy: 0.9913\n",
      "Epoch 43/100\n",
      "263/263 [==============================] - 8s 31ms/step - loss: 0.0058 - accuracy: 0.9982 - val_loss: 0.0377 - val_accuracy: 0.9921\n",
      "Epoch 44/100\n",
      "263/263 [==============================] - 9s 36ms/step - loss: 0.0043 - accuracy: 0.9986 - val_loss: 0.0343 - val_accuracy: 0.9926\n",
      "Epoch 45/100\n",
      "263/263 [==============================] - 8s 29ms/step - loss: 0.0046 - accuracy: 0.9986 - val_loss: 0.0432 - val_accuracy: 0.9913\n",
      "Epoch 46/100\n",
      "263/263 [==============================] - 8s 30ms/step - loss: 0.0037 - accuracy: 0.9987 - val_loss: 0.0368 - val_accuracy: 0.9931\n",
      "Epoch 47/100\n",
      "263/263 [==============================] - 8s 29ms/step - loss: 0.0048 - accuracy: 0.9983 - val_loss: 0.0478 - val_accuracy: 0.9915\n",
      "Epoch 48/100\n",
      "263/263 [==============================] - 9s 33ms/step - loss: 0.0063 - accuracy: 0.9981 - val_loss: 0.0412 - val_accuracy: 0.9907\n",
      "Epoch 49/100\n",
      "263/263 [==============================] - 8s 31ms/step - loss: 0.0039 - accuracy: 0.9986 - val_loss: 0.0356 - val_accuracy: 0.9925\n",
      "Epoch 50/100\n",
      "263/263 [==============================] - 8s 30ms/step - loss: 0.0039 - accuracy: 0.9985 - val_loss: 0.0370 - val_accuracy: 0.9921\n",
      "Epoch 51/100\n",
      "263/263 [==============================] - 8s 32ms/step - loss: 0.0038 - accuracy: 0.9988 - val_loss: 0.0470 - val_accuracy: 0.9924\n",
      "Epoch 52/100\n",
      "263/263 [==============================] - 10s 37ms/step - loss: 0.0038 - accuracy: 0.9989 - val_loss: 0.0367 - val_accuracy: 0.9927\n",
      "Epoch 53/100\n",
      "263/263 [==============================] - 8s 29ms/step - loss: 0.0035 - accuracy: 0.9990 - val_loss: 0.0462 - val_accuracy: 0.9919\n",
      "Epoch 54/100\n",
      "263/263 [==============================] - 8s 29ms/step - loss: 0.0023 - accuracy: 0.9993 - val_loss: 0.0380 - val_accuracy: 0.9921\n",
      "Epoch 55/100\n",
      "263/263 [==============================] - 8s 30ms/step - loss: 0.0065 - accuracy: 0.9980 - val_loss: 0.0444 - val_accuracy: 0.9917\n",
      "Epoch 56/100\n",
      "263/263 [==============================] - 10s 37ms/step - loss: 0.0055 - accuracy: 0.9982 - val_loss: 0.0554 - val_accuracy: 0.9896\n",
      "Epoch 57/100\n",
      "263/263 [==============================] - 7s 28ms/step - loss: 0.0028 - accuracy: 0.9992 - val_loss: 0.0457 - val_accuracy: 0.9918\n",
      "Epoch 58/100\n",
      "263/263 [==============================] - 9s 32ms/step - loss: 0.0027 - accuracy: 0.9990 - val_loss: 0.0474 - val_accuracy: 0.9919\n",
      "Epoch 59/100\n",
      "263/263 [==============================] - 8s 30ms/step - loss: 0.0052 - accuracy: 0.9983 - val_loss: 0.0490 - val_accuracy: 0.9915\n",
      "Epoch 60/100\n",
      "263/263 [==============================] - 10s 37ms/step - loss: 0.0029 - accuracy: 0.9992 - val_loss: 0.0409 - val_accuracy: 0.9927\n",
      "Epoch 61/100\n",
      "263/263 [==============================] - 7s 28ms/step - loss: 0.0024 - accuracy: 0.9993 - val_loss: 0.0408 - val_accuracy: 0.9920\n",
      "Epoch 62/100\n",
      "263/263 [==============================] - 8s 29ms/step - loss: 0.0035 - accuracy: 0.9988 - val_loss: 0.0470 - val_accuracy: 0.9915\n"
     ]
    }
   ],
   "source": [
    "model = cnn.fit_generator(train, epochs = 100, validation_data = test, callbacks = [callback])"
   ]
  },
  {
   "cell_type": "code",
   "execution_count": 24,
   "metadata": {
    "execution": {
     "iopub.execute_input": "2020-09-26T15:20:39.963217Z",
     "iopub.status.busy": "2020-09-26T15:20:39.962091Z",
     "iopub.status.idle": "2020-09-26T15:20:41.026016Z",
     "shell.execute_reply": "2020-09-26T15:20:41.025512Z"
    },
    "papermill": {
     "duration": 3.422617,
     "end_time": "2020-09-26T15:20:41.026121",
     "exception": false,
     "start_time": "2020-09-26T15:20:37.603504",
     "status": "completed"
    },
    "tags": []
   },
   "outputs": [
    {
     "name": "stdout",
     "output_type": "stream",
     "text": [
      "263/263 - 1s - loss: 11.9878 - accuracy: 0.9892\n"
     ]
    },
    {
     "data": {
      "text/plain": [
       "[11.987835884094238, 0.9891666769981384]"
      ]
     },
     "execution_count": 24,
     "metadata": {},
     "output_type": "execute_result"
    }
   ],
   "source": [
    "cnn.evaluate(X_test,Y_test,verbose=2)"
   ]
  },
  {
   "cell_type": "markdown",
   "metadata": {
    "papermill": {
     "duration": 2.402972,
     "end_time": "2020-09-26T15:20:45.758997",
     "exception": false,
     "start_time": "2020-09-26T15:20:43.356025",
     "status": "completed"
    },
    "tags": []
   },
   "source": [
    "# Checking the training and validation loss"
   ]
  },
  {
   "cell_type": "code",
   "execution_count": 25,
   "metadata": {
    "execution": {
     "iopub.execute_input": "2020-09-26T15:20:50.612226Z",
     "iopub.status.busy": "2020-09-26T15:20:50.611306Z",
     "iopub.status.idle": "2020-09-26T15:20:50.928700Z",
     "shell.execute_reply": "2020-09-26T15:20:50.929160Z"
    },
    "papermill": {
     "duration": 2.675277,
     "end_time": "2020-09-26T15:20:50.929294",
     "exception": false,
     "start_time": "2020-09-26T15:20:48.254017",
     "status": "completed"
    },
    "tags": []
   },
   "outputs": [
    {
     "data": {
      "image/png": "[encoded data removed]",
      "text/plain": [
       "<Figure size 432x288 with 1 Axes>"
      ]
     },
     "metadata": {
      "needs_background": "light"
     },
     "output_type": "display_data"
    },
    {
     "data": {
      "image/png": "[encoded data removed]",
      "text/plain": [
       "<Figure size 432x288 with 1 Axes>"
      ]
     },
     "metadata": {
      "needs_background": "light"
     },
     "output_type": "display_data"
    }
   ],
   "source": [
    "accuracy = model.history['accuracy']\n",
    "loss = model.history['loss']\n",
    "val_accuracy = model.history['val_accuracy']\n",
    "val_loss = model.history['val_loss']\n",
    "epochs = range(len(accuracy))\n",
    "plt.plot(epochs,accuracy,'r',label = 'training accuracy')\n",
    "plt.plot(epochs,val_accuracy,'b',label = 'test accuracy')\n",
    "plt.legend()\n",
    "plt.figure()\n",
    "plt.plot(epochs, loss, 'r', label='Training Loss')\n",
    "plt.plot(epochs, val_loss, 'b', label='Validation Loss')\n",
    "plt.title('Training and validation loss')\n",
    "plt.legend()\n",
    "\n",
    "plt.show()"
   ]
  },
  {
   "cell_type": "markdown",
   "metadata": {
    "papermill": {
     "duration": 2.707776,
     "end_time": "2020-09-26T15:20:56.320854",
     "exception": false,
     "start_time": "2020-09-26T15:20:53.613078",
     "status": "completed"
    },
    "tags": []
   },
   "source": [
    "# Evaluating the trained model on test data"
   ]
  },
  {
   "cell_type": "code",
   "execution_count": 26,
   "metadata": {
    "execution": {
     "iopub.execute_input": "2020-09-26T15:21:01.386372Z",
     "iopub.status.busy": "2020-09-26T15:21:01.385444Z",
     "iopub.status.idle": "2020-09-26T15:21:01.388535Z",
     "shell.execute_reply": "2020-09-26T15:21:01.389003Z"
    },
    "papermill": {
     "duration": 2.486568,
     "end_time": "2020-09-26T15:21:01.389139",
     "exception": false,
     "start_time": "2020-09-26T15:20:58.902571",
     "status": "completed"
    },
    "tags": []
   },
   "outputs": [
    {
     "data": {
      "text/plain": [
       "(28000, 784)"
      ]
     },
     "execution_count": 26,
     "metadata": {},
     "output_type": "execute_result"
    }
   ],
   "source": [
    "test_data.shape\n"
   ]
  },
  {
   "cell_type": "code",
   "execution_count": 27,
   "metadata": {
    "execution": {
     "iopub.execute_input": "2020-09-26T15:21:06.649951Z",
     "iopub.status.busy": "2020-09-26T15:21:06.649038Z",
     "iopub.status.idle": "2020-09-26T15:21:07.739265Z",
     "shell.execute_reply": "2020-09-26T15:21:07.738765Z"
    },
    "papermill": {
     "duration": 3.546875,
     "end_time": "2020-09-26T15:21:07.739415",
     "exception": false,
     "start_time": "2020-09-26T15:21:04.192540",
     "status": "completed"
    },
    "tags": []
   },
   "outputs": [],
   "source": [
    "test_data /= 256 \n",
    "test_data = test_data.values.reshape(-1,28,28,1)\n",
    "results = cnn.predict(test_data)"
   ]
  },
  {
   "cell_type": "code",
   "execution_count": 28,
   "metadata": {
    "execution": {
     "iopub.execute_input": "2020-09-26T15:21:12.474507Z",
     "iopub.status.busy": "2020-09-26T15:21:12.473199Z",
     "iopub.status.idle": "2020-09-26T15:21:12.477425Z",
     "shell.execute_reply": "2020-09-26T15:21:12.476969Z"
    },
    "papermill": {
     "duration": 2.337801,
     "end_time": "2020-09-26T15:21:12.477530",
     "exception": false,
     "start_time": "2020-09-26T15:21:10.139729",
     "status": "completed"
    },
    "tags": []
   },
   "outputs": [],
   "source": [
    "results = np.argmax(results,axis = 1)\n",
    "results = pd.Series(results,name = 'Label')"
   ]
  },
  {
   "cell_type": "markdown",
   "metadata": {
    "papermill": {
     "duration": 2.358686,
     "end_time": "2020-09-26T15:21:17.444248",
     "exception": false,
     "start_time": "2020-09-26T15:21:15.085562",
     "status": "completed"
    },
    "tags": []
   },
   "source": [
    "# Creating the Submission file"
   ]
  },
  {
   "cell_type": "code",
   "execution_count": 29,
   "metadata": {
    "execution": {
     "iopub.execute_input": "2020-09-26T15:21:22.341843Z",
     "iopub.status.busy": "2020-09-26T15:21:22.341086Z",
     "iopub.status.idle": "2020-09-26T15:21:22.343840Z",
     "shell.execute_reply": "2020-09-26T15:21:22.344215Z"
    },
    "papermill": {
     "duration": 2.407401,
     "end_time": "2020-09-26T15:21:22.344352",
     "exception": false,
     "start_time": "2020-09-26T15:21:19.936951",
     "status": "completed"
    },
    "tags": []
   },
   "outputs": [],
   "source": [
    "submission = pd.concat([pd.Series(range(1,28001),name = 'ImageId'),results],axis = 1)"
   ]
  },
  {
   "cell_type": "code",
   "execution_count": 30,
   "metadata": {
    "execution": {
     "iopub.execute_input": "2020-09-26T15:21:27.240643Z",
     "iopub.status.busy": "2020-09-26T15:21:27.239946Z",
     "iopub.status.idle": "2020-09-26T15:21:27.513806Z",
     "shell.execute_reply": "2020-09-26T15:21:27.512747Z"
    },
    "papermill": {
     "duration": 2.631779,
     "end_time": "2020-09-26T15:21:27.513918",
     "exception": false,
     "start_time": "2020-09-26T15:21:24.882139",
     "status": "completed"
    },
    "tags": []
   },
   "outputs": [],
   "source": [
    "submission.to_csv('./submission.csv',index = False)"
   ]
  },
  {
   "cell_type": "code",
   "execution_count": null,
   "metadata": {
    "papermill": {
     "duration": 2.332144,
     "end_time": "2020-09-26T15:21:32.193771",
     "exception": false,
     "start_time": "2020-09-26T15:21:29.861627",
     "status": "completed"
    },
    "tags": []
   },
   "outputs": [],
   "source": []
  }
 ],
 "metadata": {
  "kernelspec": {
   "display_name": "Python 3",
   "language": "python",
   "name": "python3"
  },
  "language_info": {
   "codemirror_mode": {
    "name": "ipython",
    "version": 3
   },
   "file_extension": ".py",
   "mimetype": "text/x-python",
   "name": "python",
   "nbconvert_exporter": "python",
   "pygments_lexer": "ipython3",
   "version": "3.7.6"
  },
  "papermill": {
   "duration": 582.770231,
   "end_time": "2020-09-26T15:21:35.840787",
   "environment_variables": {},
   "exception": null,
   "input_path": "__notebook__.ipynb",
   "output_path": "__notebook__.ipynb",
   "parameters": {},
   "start_time": "2020-09-26T15:11:53.070556",
   "version": "2.1.0"
  }
 },
 "nbformat": 4,
 "nbformat_minor": 4
}
